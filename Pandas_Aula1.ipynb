{
  "nbformat": 4,
  "nbformat_minor": 0,
  "metadata": {
    "colab": {
      "provenance": [],
      "mount_file_id": "1YDmo2S-m2rTT7KrVdaLsmhbl-veiy85V",
      "authorship_tag": "ABX9TyO3RpvwSZ6o7V6ydXUMWMPO",
      "include_colab_link": true
    },
    "kernelspec": {
      "name": "python3",
      "display_name": "Python 3"
    },
    "language_info": {
      "name": "python"
    }
  },
  "cells": [
    {
      "cell_type": "markdown",
      "metadata": {
        "id": "view-in-github",
        "colab_type": "text"
      },
      "source": [
        "<a href=\"https://colab.research.google.com/github/RafaelRSR/Pandas-Aula1/blob/main/Pandas_Aula1.ipynb\" target=\"_parent\"><img src=\"https://colab.research.google.com/assets/colab-badge.svg\" alt=\"Open In Colab\"/></a>"
      ]
    },
    {
      "cell_type": "markdown",
      "source": [
        "Código utilizado na primeira aula do curso de extensão: Análise de dados com Python - Pandas"
      ],
      "metadata": {
        "id": "ykrG69OWVTun"
      }
    },
    {
      "cell_type": "code",
      "source": [
        "#Importação da bibloteca pandas\n",
        "import pandas as pd\n",
        "\n",
        "combustiveis_df = pd.read_csv(\"\")"
      ],
      "metadata": {
        "id": "_3wxiBGhJ743"
      },
      "execution_count": null,
      "outputs": []
    },
    {
      "cell_type": "code",
      "source": [],
      "metadata": {
        "id": "Lw99am_tX7pz"
      },
      "execution_count": null,
      "outputs": []
    }
  ]
}